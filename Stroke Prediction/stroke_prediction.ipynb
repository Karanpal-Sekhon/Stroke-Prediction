{
 "cells": [
  {
   "cell_type": "markdown",
   "metadata": {},
   "source": [
    "Stroke Prediction with Logistic Regression"
   ]
  },
  {
   "cell_type": "code",
   "execution_count": 33,
   "metadata": {},
   "outputs": [
    {
     "data": {
      "text/html": [
       "<div>\n",
       "<style scoped>\n",
       "    .dataframe tbody tr th:only-of-type {\n",
       "        vertical-align: middle;\n",
       "    }\n",
       "\n",
       "    .dataframe tbody tr th {\n",
       "        vertical-align: top;\n",
       "    }\n",
       "\n",
       "    .dataframe thead th {\n",
       "        text-align: right;\n",
       "    }\n",
       "</style>\n",
       "<table border=\"1\" class=\"dataframe\">\n",
       "  <thead>\n",
       "    <tr style=\"text-align: right;\">\n",
       "      <th></th>\n",
       "      <th>id</th>\n",
       "      <th>gender</th>\n",
       "      <th>age</th>\n",
       "      <th>hypertension</th>\n",
       "      <th>heart_disease</th>\n",
       "      <th>ever_married</th>\n",
       "      <th>work_type</th>\n",
       "      <th>Residence_type</th>\n",
       "      <th>avg_glucose_level</th>\n",
       "      <th>bmi</th>\n",
       "      <th>smoking_status</th>\n",
       "      <th>stroke</th>\n",
       "    </tr>\n",
       "  </thead>\n",
       "  <tbody>\n",
       "    <tr>\n",
       "      <th>0</th>\n",
       "      <td>9046</td>\n",
       "      <td>Male</td>\n",
       "      <td>67.0</td>\n",
       "      <td>0</td>\n",
       "      <td>1</td>\n",
       "      <td>Yes</td>\n",
       "      <td>Private</td>\n",
       "      <td>Urban</td>\n",
       "      <td>228.69</td>\n",
       "      <td>36.6</td>\n",
       "      <td>formerly smoked</td>\n",
       "      <td>1</td>\n",
       "    </tr>\n",
       "    <tr>\n",
       "      <th>1</th>\n",
       "      <td>51676</td>\n",
       "      <td>Female</td>\n",
       "      <td>61.0</td>\n",
       "      <td>0</td>\n",
       "      <td>0</td>\n",
       "      <td>Yes</td>\n",
       "      <td>Self-employed</td>\n",
       "      <td>Rural</td>\n",
       "      <td>202.21</td>\n",
       "      <td>NaN</td>\n",
       "      <td>never smoked</td>\n",
       "      <td>1</td>\n",
       "    </tr>\n",
       "    <tr>\n",
       "      <th>2</th>\n",
       "      <td>31112</td>\n",
       "      <td>Male</td>\n",
       "      <td>80.0</td>\n",
       "      <td>0</td>\n",
       "      <td>1</td>\n",
       "      <td>Yes</td>\n",
       "      <td>Private</td>\n",
       "      <td>Rural</td>\n",
       "      <td>105.92</td>\n",
       "      <td>32.5</td>\n",
       "      <td>never smoked</td>\n",
       "      <td>1</td>\n",
       "    </tr>\n",
       "    <tr>\n",
       "      <th>3</th>\n",
       "      <td>60182</td>\n",
       "      <td>Female</td>\n",
       "      <td>49.0</td>\n",
       "      <td>0</td>\n",
       "      <td>0</td>\n",
       "      <td>Yes</td>\n",
       "      <td>Private</td>\n",
       "      <td>Urban</td>\n",
       "      <td>171.23</td>\n",
       "      <td>34.4</td>\n",
       "      <td>smokes</td>\n",
       "      <td>1</td>\n",
       "    </tr>\n",
       "    <tr>\n",
       "      <th>4</th>\n",
       "      <td>1665</td>\n",
       "      <td>Female</td>\n",
       "      <td>79.0</td>\n",
       "      <td>1</td>\n",
       "      <td>0</td>\n",
       "      <td>Yes</td>\n",
       "      <td>Self-employed</td>\n",
       "      <td>Rural</td>\n",
       "      <td>174.12</td>\n",
       "      <td>24.0</td>\n",
       "      <td>never smoked</td>\n",
       "      <td>1</td>\n",
       "    </tr>\n",
       "  </tbody>\n",
       "</table>\n",
       "</div>"
      ],
      "text/plain": [
       "      id  gender   age  hypertension  heart_disease ever_married  \\\n",
       "0   9046    Male  67.0             0              1          Yes   \n",
       "1  51676  Female  61.0             0              0          Yes   \n",
       "2  31112    Male  80.0             0              1          Yes   \n",
       "3  60182  Female  49.0             0              0          Yes   \n",
       "4   1665  Female  79.0             1              0          Yes   \n",
       "\n",
       "       work_type Residence_type  avg_glucose_level   bmi   smoking_status  \\\n",
       "0        Private          Urban             228.69  36.6  formerly smoked   \n",
       "1  Self-employed          Rural             202.21   NaN     never smoked   \n",
       "2        Private          Rural             105.92  32.5     never smoked   \n",
       "3        Private          Urban             171.23  34.4           smokes   \n",
       "4  Self-employed          Rural             174.12  24.0     never smoked   \n",
       "\n",
       "   stroke  \n",
       "0       1  \n",
       "1       1  \n",
       "2       1  \n",
       "3       1  \n",
       "4       1  "
      ]
     },
     "execution_count": 33,
     "metadata": {},
     "output_type": "execute_result"
    }
   ],
   "source": [
    "# import lines\n",
    "import numpy as np\n",
    "import pandas as pd\n",
    "import seaborn as sns\n",
    "import matplotlib.pyplot as plt\n",
    "# Read in csv\n",
    "df = pd.read_csv(\"stroke_dataset.csv\")\n",
    "df.head()"
   ]
  },
  {
   "cell_type": "code",
   "execution_count": 3,
   "metadata": {},
   "outputs": [
    {
     "name": "stdout",
     "output_type": "stream",
     "text": [
      "gender: ['Male' 'Female' 'Other']\n",
      "ever_married: ['Yes' 'No']\n",
      "work_type: ['Private' 'Self-employed' 'Govt_job' 'children' 'Never_worked']\n",
      "Residence_type: ['Urban' 'Rural']\n",
      "smoking_status: ['formerly smoked' 'never smoked' 'smokes' 'Unknown']\n"
     ]
    }
   ],
   "source": [
    "categorical_columns = list(df.select_dtypes(include=['object']).columns)\n",
    "for column in categorical_columns:\n",
    "    print(\"{}:\".format(column), df[column].unique())\n",
    "# all categorical columns dont have too many categories, thus no need for grouping\n"
   ]
  },
  {
   "cell_type": "markdown",
   "metadata": {},
   "source": [
    "Data Exploration"
   ]
  },
  {
   "cell_type": "code",
   "execution_count": 38,
   "metadata": {},
   "outputs": [
    {
     "data": {
      "text/plain": [
       "0    4861\n",
       "1     249\n",
       "Name: stroke, dtype: int64"
      ]
     },
     "execution_count": 38,
     "metadata": {},
     "output_type": "execute_result"
    }
   ],
   "source": [
    "# target is binary, 1 for yes 0 for no\n",
    "df[\"stroke\"].value_counts()"
   ]
  },
  {
   "cell_type": "code",
   "execution_count": 5,
   "metadata": {},
   "outputs": [
    {
     "data": {
      "text/plain": [
       "<AxesSubplot: xlabel='stroke', ylabel='count'>"
      ]
     },
     "execution_count": 5,
     "metadata": {},
     "output_type": "execute_result"
    },
    {
     "data": {
      "image/png": "[encoded data removed]",
      "text/plain": [
       "<Figure size 640x480 with 1 Axes>"
      ]
     },
     "metadata": {},
     "output_type": "display_data"
    }
   ],
   "source": [
    "sns.countplot(x = \"stroke\", data = df, palette=\"hls\")\n",
    "# classes are wildly imbalanced, no stroke:stroke is large\n",
    "# first do more exploration"
   ]
  },
  {
   "cell_type": "code",
   "execution_count": 6,
   "metadata": {},
   "outputs": [
    {
     "data": {
      "text/html": [
       "<div>\n",
       "<style scoped>\n",
       "    .dataframe tbody tr th:only-of-type {\n",
       "        vertical-align: middle;\n",
       "    }\n",
       "\n",
       "    .dataframe tbody tr th {\n",
       "        vertical-align: top;\n",
       "    }\n",
       "\n",
       "    .dataframe thead th {\n",
       "        text-align: right;\n",
       "    }\n",
       "</style>\n",
       "<table border=\"1\" class=\"dataframe\">\n",
       "  <thead>\n",
       "    <tr style=\"text-align: right;\">\n",
       "      <th></th>\n",
       "      <th>id</th>\n",
       "      <th>age</th>\n",
       "      <th>hypertension</th>\n",
       "      <th>heart_disease</th>\n",
       "      <th>avg_glucose_level</th>\n",
       "      <th>bmi</th>\n",
       "    </tr>\n",
       "    <tr>\n",
       "      <th>stroke</th>\n",
       "      <th></th>\n",
       "      <th></th>\n",
       "      <th></th>\n",
       "      <th></th>\n",
       "      <th></th>\n",
       "      <th></th>\n",
       "    </tr>\n",
       "  </thead>\n",
       "  <tbody>\n",
       "    <tr>\n",
       "      <th>0</th>\n",
       "      <td>36487.236371</td>\n",
       "      <td>41.971545</td>\n",
       "      <td>0.088871</td>\n",
       "      <td>0.047110</td>\n",
       "      <td>104.795513</td>\n",
       "      <td>28.823064</td>\n",
       "    </tr>\n",
       "    <tr>\n",
       "      <th>1</th>\n",
       "      <td>37115.068273</td>\n",
       "      <td>67.728193</td>\n",
       "      <td>0.265060</td>\n",
       "      <td>0.188755</td>\n",
       "      <td>132.544739</td>\n",
       "      <td>30.471292</td>\n",
       "    </tr>\n",
       "  </tbody>\n",
       "</table>\n",
       "</div>"
      ],
      "text/plain": [
       "                  id        age  hypertension  heart_disease  \\\n",
       "stroke                                                         \n",
       "0       36487.236371  41.971545      0.088871       0.047110   \n",
       "1       37115.068273  67.728193      0.265060       0.188755   \n",
       "\n",
       "        avg_glucose_level        bmi  \n",
       "stroke                                \n",
       "0              104.795513  28.823064  \n",
       "1              132.544739  30.471292  "
      ]
     },
     "execution_count": 6,
     "metadata": {},
     "output_type": "execute_result"
    }
   ],
   "source": [
    "# get categorical means for target\n",
    "df.groupby(\"stroke\").mean()"
   ]
  },
  {
   "cell_type": "code",
   "execution_count": 7,
   "metadata": {},
   "outputs": [
    {
     "data": {
      "text/plain": [
       "' \\nAverage age of people who got a stroke is higher than average age of people who did not get a stroke -> could be good predictor\\nPeople who got strokes were more likely to have hypertension than that of people who did not get strokes ---> could be good predictor\\nPeople who got strokes were also more likely to have heart disease than that of people who did not get strokes--> could be good predictor\\navg glucose level of stroke patients higher than that of healthy people --> could be good predictor\\nbmi is only slightly higher for stroke patients --> likely ambiguous\\n\\nconclusion: bmi likely is not a good predictor for stroke likelihood\\n\\n'"
      ]
     },
     "execution_count": 7,
     "metadata": {},
     "output_type": "execute_result"
    }
   ],
   "source": [
    "''' \n",
    "Average age of people who got a stroke is higher than average age of people who did not get a stroke -> could be good predictor\n",
    "People who got strokes were more likely to have hypertension than that of people who did not get strokes ---> could be good predictor\n",
    "People who got strokes were also more likely to have heart disease than that of people who did not get strokes--> could be good predictor\n",
    "avg glucose level of stroke patients higher than that of healthy people --> could be good predictor\n",
    "bmi is only slightly higher for stroke patients --> likely ambiguous\n",
    "\n",
    "conclusion: bmi likely is not a good predictor for stroke likelihood\n",
    "\n",
    "'''"
   ]
  },
  {
   "cell_type": "code",
   "execution_count": 8,
   "metadata": {},
   "outputs": [
    {
     "data": {
      "text/plain": [
       "['gender', 'ever_married', 'work_type', 'Residence_type', 'smoking_status']"
      ]
     },
     "execution_count": 8,
     "metadata": {},
     "output_type": "execute_result"
    }
   ],
   "source": [
    "# now get categorical means for all other categorical variables for further data analysis\n",
    "categorical_columns"
   ]
  },
  {
   "cell_type": "code",
   "execution_count": 9,
   "metadata": {},
   "outputs": [
    {
     "data": {
      "text/html": [
       "<div>\n",
       "<style scoped>\n",
       "    .dataframe tbody tr th:only-of-type {\n",
       "        vertical-align: middle;\n",
       "    }\n",
       "\n",
       "    .dataframe tbody tr th {\n",
       "        vertical-align: top;\n",
       "    }\n",
       "\n",
       "    .dataframe thead th {\n",
       "        text-align: right;\n",
       "    }\n",
       "</style>\n",
       "<table border=\"1\" class=\"dataframe\">\n",
       "  <thead>\n",
       "    <tr style=\"text-align: right;\">\n",
       "      <th></th>\n",
       "      <th>id</th>\n",
       "      <th>age</th>\n",
       "      <th>hypertension</th>\n",
       "      <th>heart_disease</th>\n",
       "      <th>avg_glucose_level</th>\n",
       "      <th>bmi</th>\n",
       "      <th>stroke</th>\n",
       "    </tr>\n",
       "    <tr>\n",
       "      <th>gender</th>\n",
       "      <th></th>\n",
       "      <th></th>\n",
       "      <th></th>\n",
       "      <th></th>\n",
       "      <th></th>\n",
       "      <th></th>\n",
       "      <th></th>\n",
       "    </tr>\n",
       "  </thead>\n",
       "  <tbody>\n",
       "    <tr>\n",
       "      <th>Female</th>\n",
       "      <td>36479.685037</td>\n",
       "      <td>43.757395</td>\n",
       "      <td>0.092184</td>\n",
       "      <td>0.037742</td>\n",
       "      <td>104.057809</td>\n",
       "      <td>29.065758</td>\n",
       "      <td>0.047094</td>\n",
       "    </tr>\n",
       "    <tr>\n",
       "      <th>Male</th>\n",
       "      <td>36562.541371</td>\n",
       "      <td>42.483385</td>\n",
       "      <td>0.104965</td>\n",
       "      <td>0.077069</td>\n",
       "      <td>109.088520</td>\n",
       "      <td>28.647936</td>\n",
       "      <td>0.051064</td>\n",
       "    </tr>\n",
       "    <tr>\n",
       "      <th>Other</th>\n",
       "      <td>56156.000000</td>\n",
       "      <td>26.000000</td>\n",
       "      <td>0.000000</td>\n",
       "      <td>0.000000</td>\n",
       "      <td>143.330000</td>\n",
       "      <td>22.400000</td>\n",
       "      <td>0.000000</td>\n",
       "    </tr>\n",
       "  </tbody>\n",
       "</table>\n",
       "</div>"
      ],
      "text/plain": [
       "                  id        age  hypertension  heart_disease  \\\n",
       "gender                                                         \n",
       "Female  36479.685037  43.757395      0.092184       0.037742   \n",
       "Male    36562.541371  42.483385      0.104965       0.077069   \n",
       "Other   56156.000000  26.000000      0.000000       0.000000   \n",
       "\n",
       "        avg_glucose_level        bmi    stroke  \n",
       "gender                                          \n",
       "Female         104.057809  29.065758  0.047094  \n",
       "Male           109.088520  28.647936  0.051064  \n",
       "Other          143.330000  22.400000  0.000000  "
      ]
     },
     "execution_count": 9,
     "metadata": {},
     "output_type": "execute_result"
    }
   ],
   "source": [
    "df.groupby(\"gender\").mean()"
   ]
  },
  {
   "cell_type": "code",
   "execution_count": 10,
   "metadata": {},
   "outputs": [],
   "source": [
    "\n",
    "# Gender has little no effect on stroke likelihood, all other categorical variables are also similar, therefore likely bad predictor.\n"
   ]
  },
  {
   "cell_type": "code",
   "execution_count": 11,
   "metadata": {},
   "outputs": [
    {
     "data": {
      "text/html": [
       "<div>\n",
       "<style scoped>\n",
       "    .dataframe tbody tr th:only-of-type {\n",
       "        vertical-align: middle;\n",
       "    }\n",
       "\n",
       "    .dataframe tbody tr th {\n",
       "        vertical-align: top;\n",
       "    }\n",
       "\n",
       "    .dataframe thead th {\n",
       "        text-align: right;\n",
       "    }\n",
       "</style>\n",
       "<table border=\"1\" class=\"dataframe\">\n",
       "  <thead>\n",
       "    <tr style=\"text-align: right;\">\n",
       "      <th></th>\n",
       "      <th>id</th>\n",
       "      <th>age</th>\n",
       "      <th>hypertension</th>\n",
       "      <th>heart_disease</th>\n",
       "      <th>avg_glucose_level</th>\n",
       "      <th>bmi</th>\n",
       "      <th>stroke</th>\n",
       "    </tr>\n",
       "    <tr>\n",
       "      <th>ever_married</th>\n",
       "      <th></th>\n",
       "      <th></th>\n",
       "      <th></th>\n",
       "      <th></th>\n",
       "      <th></th>\n",
       "      <th></th>\n",
       "      <th></th>\n",
       "    </tr>\n",
       "  </thead>\n",
       "  <tbody>\n",
       "    <tr>\n",
       "      <th>No</th>\n",
       "      <td>36117.673307</td>\n",
       "      <td>22.014229</td>\n",
       "      <td>0.030165</td>\n",
       "      <td>0.018213</td>\n",
       "      <td>96.44815</td>\n",
       "      <td>25.214721</td>\n",
       "      <td>0.016505</td>\n",
       "    </tr>\n",
       "    <tr>\n",
       "      <th>Yes</th>\n",
       "      <td>36727.514465</td>\n",
       "      <td>54.342082</td>\n",
       "      <td>0.132717</td>\n",
       "      <td>0.072771</td>\n",
       "      <td>111.23031</td>\n",
       "      <td>30.850749</td>\n",
       "      <td>0.065613</td>\n",
       "    </tr>\n",
       "  </tbody>\n",
       "</table>\n",
       "</div>"
      ],
      "text/plain": [
       "                        id        age  hypertension  heart_disease  \\\n",
       "ever_married                                                         \n",
       "No            36117.673307  22.014229      0.030165       0.018213   \n",
       "Yes           36727.514465  54.342082      0.132717       0.072771   \n",
       "\n",
       "              avg_glucose_level        bmi    stroke  \n",
       "ever_married                                          \n",
       "No                     96.44815  25.214721  0.016505  \n",
       "Yes                   111.23031  30.850749  0.065613  "
      ]
     },
     "execution_count": 11,
     "metadata": {},
     "output_type": "execute_result"
    }
   ],
   "source": [
    "df.groupby(\"ever_married\").mean()"
   ]
  },
  {
   "cell_type": "code",
   "execution_count": 12,
   "metadata": {},
   "outputs": [],
   "source": [
    "# Being married seems to increase stroke likelihood by around 80%, all of the other \"good\" predictors also increase correspondingly therefore could be entirely coincidental"
   ]
  },
  {
   "cell_type": "code",
   "execution_count": 13,
   "metadata": {},
   "outputs": [
    {
     "data": {
      "text/plain": [
       "array(['Private', 'Self-employed', 'Govt_job', 'children', 'Never_worked'],\n",
       "      dtype=object)"
      ]
     },
     "execution_count": 13,
     "metadata": {},
     "output_type": "execute_result"
    }
   ],
   "source": [
    "df[\"work_type\"].unique()"
   ]
  },
  {
   "cell_type": "code",
   "execution_count": 14,
   "metadata": {},
   "outputs": [
    {
     "data": {
      "text/html": [
       "<div>\n",
       "<style scoped>\n",
       "    .dataframe tbody tr th:only-of-type {\n",
       "        vertical-align: middle;\n",
       "    }\n",
       "\n",
       "    .dataframe tbody tr th {\n",
       "        vertical-align: top;\n",
       "    }\n",
       "\n",
       "    .dataframe thead th {\n",
       "        text-align: right;\n",
       "    }\n",
       "</style>\n",
       "<table border=\"1\" class=\"dataframe\">\n",
       "  <thead>\n",
       "    <tr style=\"text-align: right;\">\n",
       "      <th></th>\n",
       "      <th>id</th>\n",
       "      <th>age</th>\n",
       "      <th>hypertension</th>\n",
       "      <th>heart_disease</th>\n",
       "      <th>avg_glucose_level</th>\n",
       "      <th>bmi</th>\n",
       "      <th>stroke</th>\n",
       "    </tr>\n",
       "    <tr>\n",
       "      <th>work_type</th>\n",
       "      <th></th>\n",
       "      <th></th>\n",
       "      <th></th>\n",
       "      <th></th>\n",
       "      <th></th>\n",
       "      <th></th>\n",
       "      <th></th>\n",
       "    </tr>\n",
       "  </thead>\n",
       "  <tbody>\n",
       "    <tr>\n",
       "      <th>Govt_job</th>\n",
       "      <td>36516.936073</td>\n",
       "      <td>50.879756</td>\n",
       "      <td>0.111111</td>\n",
       "      <td>0.054795</td>\n",
       "      <td>107.779772</td>\n",
       "      <td>30.522063</td>\n",
       "      <td>0.050228</td>\n",
       "    </tr>\n",
       "    <tr>\n",
       "      <th>Never_worked</th>\n",
       "      <td>38274.409091</td>\n",
       "      <td>16.181818</td>\n",
       "      <td>0.000000</td>\n",
       "      <td>0.000000</td>\n",
       "      <td>96.042727</td>\n",
       "      <td>25.545455</td>\n",
       "      <td>0.000000</td>\n",
       "    </tr>\n",
       "    <tr>\n",
       "      <th>Private</th>\n",
       "      <td>36951.227009</td>\n",
       "      <td>45.503932</td>\n",
       "      <td>0.096068</td>\n",
       "      <td>0.054017</td>\n",
       "      <td>106.796844</td>\n",
       "      <td>30.304625</td>\n",
       "      <td>0.050940</td>\n",
       "    </tr>\n",
       "    <tr>\n",
       "      <th>Self-employed</th>\n",
       "      <td>35551.288156</td>\n",
       "      <td>60.201465</td>\n",
       "      <td>0.175824</td>\n",
       "      <td>0.098901</td>\n",
       "      <td>112.645446</td>\n",
       "      <td>30.211871</td>\n",
       "      <td>0.079365</td>\n",
       "    </tr>\n",
       "    <tr>\n",
       "      <th>children</th>\n",
       "      <td>35769.432314</td>\n",
       "      <td>6.841339</td>\n",
       "      <td>0.000000</td>\n",
       "      <td>0.001456</td>\n",
       "      <td>94.400277</td>\n",
       "      <td>20.038003</td>\n",
       "      <td>0.002911</td>\n",
       "    </tr>\n",
       "  </tbody>\n",
       "</table>\n",
       "</div>"
      ],
      "text/plain": [
       "                         id        age  hypertension  heart_disease  \\\n",
       "work_type                                                             \n",
       "Govt_job       36516.936073  50.879756      0.111111       0.054795   \n",
       "Never_worked   38274.409091  16.181818      0.000000       0.000000   \n",
       "Private        36951.227009  45.503932      0.096068       0.054017   \n",
       "Self-employed  35551.288156  60.201465      0.175824       0.098901   \n",
       "children       35769.432314   6.841339      0.000000       0.001456   \n",
       "\n",
       "               avg_glucose_level        bmi    stroke  \n",
       "work_type                                              \n",
       "Govt_job              107.779772  30.522063  0.050228  \n",
       "Never_worked           96.042727  25.545455  0.000000  \n",
       "Private               106.796844  30.304625  0.050940  \n",
       "Self-employed         112.645446  30.211871  0.079365  \n",
       "children               94.400277  20.038003  0.002911  "
      ]
     },
     "execution_count": 14,
     "metadata": {},
     "output_type": "execute_result"
    }
   ],
   "source": [
    "df.groupby(\"work_type\").mean()"
   ]
  },
  {
   "cell_type": "code",
   "execution_count": 15,
   "metadata": {},
   "outputs": [],
   "source": [
    "# work type overall does not seem like a good predictor"
   ]
  },
  {
   "cell_type": "code",
   "execution_count": 16,
   "metadata": {},
   "outputs": [
    {
     "data": {
      "text/html": [
       "<div>\n",
       "<style scoped>\n",
       "    .dataframe tbody tr th:only-of-type {\n",
       "        vertical-align: middle;\n",
       "    }\n",
       "\n",
       "    .dataframe tbody tr th {\n",
       "        vertical-align: top;\n",
       "    }\n",
       "\n",
       "    .dataframe thead th {\n",
       "        text-align: right;\n",
       "    }\n",
       "</style>\n",
       "<table border=\"1\" class=\"dataframe\">\n",
       "  <thead>\n",
       "    <tr style=\"text-align: right;\">\n",
       "      <th></th>\n",
       "      <th>id</th>\n",
       "      <th>age</th>\n",
       "      <th>hypertension</th>\n",
       "      <th>heart_disease</th>\n",
       "      <th>avg_glucose_level</th>\n",
       "      <th>bmi</th>\n",
       "      <th>stroke</th>\n",
       "    </tr>\n",
       "    <tr>\n",
       "      <th>Residence_type</th>\n",
       "      <th></th>\n",
       "      <th></th>\n",
       "      <th></th>\n",
       "      <th></th>\n",
       "      <th></th>\n",
       "      <th></th>\n",
       "      <th></th>\n",
       "    </tr>\n",
       "  </thead>\n",
       "  <tbody>\n",
       "    <tr>\n",
       "      <th>Rural</th>\n",
       "      <td>36547.998011</td>\n",
       "      <td>42.900811</td>\n",
       "      <td>0.099841</td>\n",
       "      <td>0.053302</td>\n",
       "      <td>106.375235</td>\n",
       "      <td>28.894212</td>\n",
       "      <td>0.045346</td>\n",
       "    </tr>\n",
       "    <tr>\n",
       "      <th>Urban</th>\n",
       "      <td>36488.613636</td>\n",
       "      <td>43.542126</td>\n",
       "      <td>0.095146</td>\n",
       "      <td>0.054700</td>\n",
       "      <td>105.927307</td>\n",
       "      <td>28.892289</td>\n",
       "      <td>0.052003</td>\n",
       "    </tr>\n",
       "  </tbody>\n",
       "</table>\n",
       "</div>"
      ],
      "text/plain": [
       "                          id        age  hypertension  heart_disease  \\\n",
       "Residence_type                                                         \n",
       "Rural           36547.998011  42.900811      0.099841       0.053302   \n",
       "Urban           36488.613636  43.542126      0.095146       0.054700   \n",
       "\n",
       "                avg_glucose_level        bmi    stroke  \n",
       "Residence_type                                          \n",
       "Rural                  106.375235  28.894212  0.045346  \n",
       "Urban                  105.927307  28.892289  0.052003  "
      ]
     },
     "execution_count": 16,
     "metadata": {},
     "output_type": "execute_result"
    }
   ],
   "source": [
    "df.groupby(\"Residence_type\").mean()"
   ]
  },
  {
   "cell_type": "code",
   "execution_count": 17,
   "metadata": {},
   "outputs": [],
   "source": [
    "# bad predictor"
   ]
  },
  {
   "cell_type": "code",
   "execution_count": 18,
   "metadata": {},
   "outputs": [
    {
     "data": {
      "text/html": [
       "<div>\n",
       "<style scoped>\n",
       "    .dataframe tbody tr th:only-of-type {\n",
       "        vertical-align: middle;\n",
       "    }\n",
       "\n",
       "    .dataframe tbody tr th {\n",
       "        vertical-align: top;\n",
       "    }\n",
       "\n",
       "    .dataframe thead th {\n",
       "        text-align: right;\n",
       "    }\n",
       "</style>\n",
       "<table border=\"1\" class=\"dataframe\">\n",
       "  <thead>\n",
       "    <tr style=\"text-align: right;\">\n",
       "      <th></th>\n",
       "      <th>id</th>\n",
       "      <th>age</th>\n",
       "      <th>hypertension</th>\n",
       "      <th>heart_disease</th>\n",
       "      <th>avg_glucose_level</th>\n",
       "      <th>bmi</th>\n",
       "      <th>stroke</th>\n",
       "    </tr>\n",
       "    <tr>\n",
       "      <th>smoking_status</th>\n",
       "      <th></th>\n",
       "      <th></th>\n",
       "      <th></th>\n",
       "      <th></th>\n",
       "      <th></th>\n",
       "      <th></th>\n",
       "      <th></th>\n",
       "    </tr>\n",
       "  </thead>\n",
       "  <tbody>\n",
       "    <tr>\n",
       "      <th>Unknown</th>\n",
       "      <td>35899.042098</td>\n",
       "      <td>30.229922</td>\n",
       "      <td>0.033679</td>\n",
       "      <td>0.031088</td>\n",
       "      <td>99.601541</td>\n",
       "      <td>25.666352</td>\n",
       "      <td>0.030440</td>\n",
       "    </tr>\n",
       "    <tr>\n",
       "      <th>formerly smoked</th>\n",
       "      <td>36878.981921</td>\n",
       "      <td>54.929944</td>\n",
       "      <td>0.135593</td>\n",
       "      <td>0.087006</td>\n",
       "      <td>112.886079</td>\n",
       "      <td>30.747192</td>\n",
       "      <td>0.079096</td>\n",
       "    </tr>\n",
       "    <tr>\n",
       "      <th>never smoked</th>\n",
       "      <td>36833.141649</td>\n",
       "      <td>46.744715</td>\n",
       "      <td>0.122622</td>\n",
       "      <td>0.047569</td>\n",
       "      <td>107.558092</td>\n",
       "      <td>29.982559</td>\n",
       "      <td>0.047569</td>\n",
       "    </tr>\n",
       "    <tr>\n",
       "      <th>smokes</th>\n",
       "      <td>36567.533587</td>\n",
       "      <td>47.096324</td>\n",
       "      <td>0.119138</td>\n",
       "      <td>0.077313</td>\n",
       "      <td>108.017440</td>\n",
       "      <td>30.543555</td>\n",
       "      <td>0.053232</td>\n",
       "    </tr>\n",
       "  </tbody>\n",
       "</table>\n",
       "</div>"
      ],
      "text/plain": [
       "                           id        age  hypertension  heart_disease  \\\n",
       "smoking_status                                                          \n",
       "Unknown          35899.042098  30.229922      0.033679       0.031088   \n",
       "formerly smoked  36878.981921  54.929944      0.135593       0.087006   \n",
       "never smoked     36833.141649  46.744715      0.122622       0.047569   \n",
       "smokes           36567.533587  47.096324      0.119138       0.077313   \n",
       "\n",
       "                 avg_glucose_level        bmi    stroke  \n",
       "smoking_status                                           \n",
       "Unknown                  99.601541  25.666352  0.030440  \n",
       "formerly smoked         112.886079  30.747192  0.079096  \n",
       "never smoked            107.558092  29.982559  0.047569  \n",
       "smokes                  108.017440  30.543555  0.053232  "
      ]
     },
     "execution_count": 18,
     "metadata": {},
     "output_type": "execute_result"
    }
   ],
   "source": [
    "df.groupby(\"smoking_status\").mean()"
   ]
  },
  {
   "cell_type": "code",
   "execution_count": 37,
   "metadata": {},
   "outputs": [],
   "source": [
    "# people who have formerly smoked, likely to have stroke, same with people who currently smoke"
   ]
  },
  {
   "cell_type": "code",
   "execution_count": 30,
   "metadata": {},
   "outputs": [
    {
     "data": {
      "text/plain": [
       "['gender', 'ever_married', 'work_type', 'Residence_type', 'smoking_status']"
      ]
     },
     "execution_count": 30,
     "metadata": {},
     "output_type": "execute_result"
    }
   ],
   "source": [
    "categorical_columns"
   ]
  },
  {
   "cell_type": "markdown",
   "metadata": {},
   "source": [
    "Data Visualizations"
   ]
  },
  {
   "cell_type": "code",
   "execution_count": 34,
   "metadata": {},
   "outputs": [
    {
     "data": {
      "text/plain": [
       "Text(0.5, 1.0, 'Stroke Likelihood given Smoking Status')"
      ]
     },
     "execution_count": 34,
     "metadata": {},
     "output_type": "execute_result"
    },
    {
     "data": {
      "image/png": "[encoded data removed]",
      "text/plain": [
       "<Figure size 640x480 with 1 Axes>"
      ]
     },
     "metadata": {},
     "output_type": "display_data"
    }
   ],
   "source": [
    "pd.crosstab(df.smoking_status, df.stroke).plot(kind=\"bar\")\n",
    "plt.title(\"Stroke Likelihood given Smoking Status\")"
   ]
  },
  {
   "cell_type": "code",
   "execution_count": null,
   "metadata": {},
   "outputs": [],
   "source": [
    "# people who have formerly smoked wayy more likely to get stroke, stroke bars are similar only because of range, less people in dataset had formerly smoked"
   ]
  },
  {
   "cell_type": "code",
   "execution_count": 35,
   "metadata": {},
   "outputs": [
    {
     "data": {
      "text/plain": [
       "Text(0.5, 1.0, 'Stroke Likelihood given Marriage Status')"
      ]
     },
     "execution_count": 35,
     "metadata": {},
     "output_type": "execute_result"
    },
    {
     "data": {
      "image/png": "[encoded data removed]",
      "text/plain": [
       "<Figure size 640x480 with 1 Axes>"
      ]
     },
     "metadata": {},
     "output_type": "display_data"
    }
   ],
   "source": [
    "pd.crosstab(df.ever_married, df.stroke).plot(kind=\"bar\")\n",
    "plt.title(\"Stroke Likelihood given Marriage Status\")"
   ]
  },
  {
   "cell_type": "code",
   "execution_count": 39,
   "metadata": {},
   "outputs": [],
   "source": [
    "# bar graph once again shows that marriage status will be a good predictor for stroke likelihood"
   ]
  },
  {
   "cell_type": "code",
   "execution_count": null,
   "metadata": {},
   "outputs": [],
   "source": []
  }
 ],
 "metadata": {
  "kernelspec": {
   "display_name": "Python 3.10.2 64-bit",
   "language": "python",
   "name": "python3"
  },
  "language_info": {
   "codemirror_mode": {
    "name": "ipython",
    "version": 3
   },
   "file_extension": ".py",
   "mimetype": "text/x-python",
   "name": "python",
   "nbconvert_exporter": "python",
   "pygments_lexer": "ipython3",
   "version": "3.10.2"
  },
  "orig_nbformat": 4,
  "vscode": {
   "interpreter": {
    "hash": "ee9086fd0f152b3b8dc74bdaa1f1835e760e81fcfbdd354727ebce384e91fabe"
   }
  }
 },
 "nbformat": 4,
 "nbformat_minor": 2
}
